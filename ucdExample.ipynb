{
 "cells": [
  {
   "cell_type": "markdown",
   "metadata": {},
   "source": [
    "# Simple Proof of Work Example\n",
    "Sample bitcoin `block number` (or `height`) 650750. This is a recent block from September 30th."
   ]
  },
  {
   "cell_type": "code",
   "execution_count": 1,
   "metadata": {},
   "outputs": [],
   "source": [
    "blockNum = 650750"
   ]
  },
  {
   "cell_type": "markdown",
   "metadata": {},
   "source": [
    "Lots of sources and APIs. For this example I used *Blockcypher*"
   ]
  },
  {
   "cell_type": "code",
   "execution_count": null,
   "metadata": {},
   "outputs": [],
   "source": [
    "import os\n",
    "os.system(\"curl 'https://api.blockcypher.com/v1/btc/main/blocks/\"+blockNum  +\" > block\" + blockNum + \".json\")"
   ]
  },
  {
   "cell_type": "markdown",
   "metadata": {},
   "source": [
    "Load the file and take a look at fields (API providers include extra info, variations)"
   ]
  },
  {
   "cell_type": "code",
   "execution_count": 3,
   "metadata": {},
   "outputs": [
    {
     "data": {
      "text/plain": [
       "dict_keys(['hash', 'height', 'chain', 'total', 'fees', 'size', 'ver', 'time', 'received_time', 'coinbase_addr', 'relayed_by', 'bits', 'nonce', 'n_tx', 'prev_block', 'mrkl_root', 'txids', 'depth', 'prev_block_url', 'tx_url', 'next_txids'])"
      ]
     },
     "execution_count": 3,
     "metadata": {},
     "output_type": "execute_result"
    }
   ],
   "source": [
    "import json\n",
    "\n",
    "with open('block650750.json') as f:\n",
    "    d = json.load(f)\n",
    "\n",
    "d.keys()"
   ]
  },
  {
   "cell_type": "markdown",
   "metadata": {},
   "source": [
    "## Proof of Work Computation\n",
    "This uses 6 fields from the block header\n",
    "1. version (4 bytes)\n",
    "2. hash of previous block (32 bytes)\n",
    "3. Merkle root (of transactions included in the block) (32 bytes)\n",
    "4. block time stamp (4 bytes)\n",
    "5. bits (4 bytes)\n",
    "6. nonce (4 bytes)\n",
    "\n",
    "Proof of work computation\n",
    "* concatatenate the above\n",
    "* get the **double** sha256 hash\n",
    "\n",
    "The result should be the same as the block's hash"
   ]
  },
  {
   "cell_type": "code",
   "execution_count": 4,
   "metadata": {},
   "outputs": [],
   "source": [
    "# 6 components\n",
    "version = d['ver'] #536870912\n",
    "hashPrevBlock = d['prev_block']  #\"00000000000000000001bcd7e222ebf6b1332f49b1524721dfd3673599960464\"\n",
    "hashMerkleRoot = d['mrkl_root'] #\"d34949770bcdbd1a20db0192e0795135696c2eb6668ba5d831df2dc87c37b5ba\" \n",
    "blkTimeStamp =\td['time'] #\"2020-10-01T03:11:34Z\"\n",
    "bits = d['bits'] # 386831018\n",
    "nonce = d['nonce'] #25376585\n",
    "\n",
    "#block hash\n",
    "blk_hash = d['hash'] #\"0000000000000000000ca0a08f726db261675912567d7dbfff0d07d25bf05925\""
   ]
  },
  {
   "cell_type": "markdown",
   "metadata": {},
   "source": [
    "We've got 3 integers (version, bits, nonce) and 3 strings (timestamp, prevHash, Merkle Root)\n",
    "\n",
    "Before computing the block hash (PoW), we need to convert them all \n",
    "* Hex Strings (simple)\n",
    "* Little **endian** (i had to look this up for Python)\n",
    "\n",
    "## Some helper functions\n",
    "\n",
    "### Convert 4 byte integer to Little endian Hex strings\n",
    "This is for **version, bits** and **nonce**"
   ]
  },
  {
   "cell_type": "code",
   "execution_count": 5,
   "metadata": {},
   "outputs": [],
   "source": [
    "def field2LilEndHex(s):\n",
    "    return s.to_bytes(4,'little').hex()"
   ]
  },
  {
   "cell_type": "markdown",
   "metadata": {},
   "source": [
    "For example, try version number"
   ]
  },
  {
   "cell_type": "code",
   "execution_count": 8,
   "metadata": {},
   "outputs": [
    {
     "data": {
      "text/plain": [
       "536870912"
      ]
     },
     "execution_count": 8,
     "metadata": {},
     "output_type": "execute_result"
    }
   ],
   "source": [
    "version"
   ]
  },
  {
   "cell_type": "code",
   "execution_count": 10,
   "metadata": {},
   "outputs": [
    {
     "data": {
      "text/plain": [
       "'00000020'"
      ]
     },
     "execution_count": 10,
     "metadata": {},
     "output_type": "execute_result"
    }
   ],
   "source": [
    "hex_ver = field2LilEndHex(version)\n",
    "hex_ver"
   ]
  },
  {
   "cell_type": "markdown",
   "metadata": {},
   "source": [
    "### Convert hashes from Big to Little Endian\n",
    "This is for the **hash of previous block** and **Merkle root**"
   ]
  },
  {
   "cell_type": "code",
   "execution_count": 11,
   "metadata": {},
   "outputs": [],
   "source": [
    "def Hash2LilEnd(h):\n",
    "    return int(h,16).to_bytes(32, 'little').hex()"
   ]
  },
  {
   "cell_type": "markdown",
   "metadata": {},
   "source": [
    "### Convert timestamp string to unix time and Little Endian  "
   ]
  },
  {
   "cell_type": "code",
   "execution_count": 12,
   "metadata": {},
   "outputs": [],
   "source": [
    "import time\n",
    "from datetime import datetime\n",
    "\n",
    "def time2LilEndHex(t):\n",
    "    t = t.replace(\"Z\",\"\")\n",
    "    t1 = datetime.fromisoformat(t)\n",
    "    utc = int(time.mktime(t1.timetuple())) - 7*3600 #unix time - time delta with UTC\n",
    "    return utc.to_bytes(4,'little').hex()"
   ]
  },
  {
   "cell_type": "markdown",
   "metadata": {},
   "source": [
    "For example"
   ]
  },
  {
   "cell_type": "code",
   "execution_count": 13,
   "metadata": {},
   "outputs": [
    {
     "data": {
      "text/plain": [
       "'c7f5d74d'"
      ]
     },
     "execution_count": 13,
     "metadata": {},
     "output_type": "execute_result"
    }
   ],
   "source": [
    "time2LilEndHex(\"2011-05-21T17:26:31\")"
   ]
  },
  {
   "cell_type": "markdown",
   "metadata": {},
   "source": [
    "Convert all the fields into Hex strings using the above helper functions"
   ]
  },
  {
   "cell_type": "code",
   "execution_count": 15,
   "metadata": {},
   "outputs": [],
   "source": [
    "## convert the fields into Hex with appropriate endian-ness\n",
    "hex_ver = field2LilEndHex(version)\n",
    "hex_prevHash = Hash2LilEnd(hashPrevBlock)\n",
    "hex_MerkleRoot = Hash2LilEnd(hashMerkleRoot)\n",
    "hex_timestamp = time2LilEndHex(blkTimeStamp)\n",
    "hex_bits = field2LilEndHex(bits)\n",
    "hex_nonce = field2LilEndHex(nonce)"
   ]
  },
  {
   "cell_type": "markdown",
   "metadata": {},
   "source": [
    "Add them all and **convert to Big endian before** hashing"
   ]
  },
  {
   "cell_type": "code",
   "execution_count": 16,
   "metadata": {},
   "outputs": [],
   "source": [
    "header_hex_concat = hex_ver + hex_prevHash + hex_MerkleRoot + hex_timestamp + hex_bits + hex_nonce \n",
    "## convert to bytes with Big endian\n",
    "header_bin = int(header_hex_concat,16).to_bytes(80,'big')"
   ]
  },
  {
   "cell_type": "markdown",
   "metadata": {},
   "source": [
    "## Compute double SHA256"
   ]
  },
  {
   "cell_type": "code",
   "execution_count": 17,
   "metadata": {},
   "outputs": [],
   "source": [
    "import hashlib\n",
    "\n",
    "hash = hashlib.sha256(hashlib.sha256(header_bin).digest()).digest()"
   ]
  },
  {
   "cell_type": "markdown",
   "metadata": {},
   "source": [
    "Convert binary hash to Hex String"
   ]
  },
  {
   "cell_type": "code",
   "execution_count": 19,
   "metadata": {},
   "outputs": [],
   "source": [
    "hex_hash = hash.hex()"
   ]
  },
  {
   "cell_type": "code",
   "execution_count": 20,
   "metadata": {},
   "outputs": [
    {
     "data": {
      "text/plain": [
       "'2559f05bd2070dffbf7d7d5612596761b26d728fa0a00c000000000000000000'"
      ]
     },
     "execution_count": 20,
     "metadata": {},
     "output_type": "execute_result"
    }
   ],
   "source": [
    "hex_hash"
   ]
  },
  {
   "cell_type": "markdown",
   "metadata": {},
   "source": [
    "This is big endian! We need the 0's out in front for Proof of Work"
   ]
  },
  {
   "cell_type": "code",
   "execution_count": 22,
   "metadata": {},
   "outputs": [
    {
     "data": {
      "text/plain": [
       "'0000000000000000000ca0a08f726db261675912567d7dbfff0d07d25bf05925'"
      ]
     },
     "execution_count": 22,
     "metadata": {},
     "output_type": "execute_result"
    }
   ],
   "source": [
    "hex_hash_Rev = Hash2LilEnd(hex_hash)\n",
    "hex_hash_Rev"
   ]
  },
  {
   "cell_type": "markdown",
   "metadata": {},
   "source": [
    "### Verify it matches the block header"
   ]
  },
  {
   "cell_type": "code",
   "execution_count": 23,
   "metadata": {},
   "outputs": [
    {
     "data": {
      "text/plain": [
       "True"
      ]
     },
     "execution_count": 23,
     "metadata": {},
     "output_type": "execute_result"
    }
   ],
   "source": [
    "hex_hash_Rev == blk_hash"
   ]
  },
  {
   "cell_type": "markdown",
   "metadata": {},
   "source": [
    "**Summary:** \n",
    "* This is how we go from `blockHeader -> blockHash`\n",
    "* If the hash meets the **target difficulty (enough 0's)**, then it serves as Proof of work\n",
    "\n",
    "The bitcoin network is performing about 150 Exa Hash (150 * 10^18) \n",
    "such computations per second.\n",
    "\n",
    "To overcome this network (51% attack), you need to amass and sustain the computing power of about 75 billion-billion Block Hash computations.\n"
   ]
  }
 ],
 "metadata": {
  "kernelspec": {
   "display_name": "Python 3",
   "language": "python",
   "name": "python3"
  },
  "language_info": {
   "codemirror_mode": {
    "name": "ipython",
    "version": 3
   },
   "file_extension": ".py",
   "mimetype": "text/x-python",
   "name": "python",
   "nbconvert_exporter": "python",
   "pygments_lexer": "ipython3",
   "version": "3.7.4"
  }
 },
 "nbformat": 4,
 "nbformat_minor": 4
}
